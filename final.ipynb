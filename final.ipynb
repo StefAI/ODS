{
 "cells": [
  {
   "cell_type": "code",
   "execution_count": 1,
   "id": "54f78bb3",
   "metadata": {},
   "outputs": [],
   "source": [
    "import pandas as pd\n",
    "import numpy as np"
   ]
  },
  {
   "cell_type": "code",
   "execution_count": 2,
   "id": "d2ba397b",
   "metadata": {},
   "outputs": [],
   "source": [
    "import datetime"
   ]
  },
  {
   "cell_type": "code",
   "execution_count": 3,
   "id": "cb3292c8",
   "metadata": {},
   "outputs": [],
   "source": [
    "train_df = pd.read_csv('data/train.csv', index_col=0)"
   ]
  },
  {
   "cell_type": "code",
   "execution_count": 4,
   "id": "f93c13d7",
   "metadata": {},
   "outputs": [],
   "source": [
    "test_df = pd.read_csv('data/test.csv', index_col=0)"
   ]
  },
  {
   "cell_type": "code",
   "execution_count": 5,
   "id": "6f935ff1",
   "metadata": {},
   "outputs": [],
   "source": [
    "all_data = pd.concat([train_df, test_df], axis=0)"
   ]
  },
  {
   "cell_type": "code",
   "execution_count": 6,
   "id": "23ff6100",
   "metadata": {},
   "outputs": [
    {
     "data": {
      "text/html": [
       "<div>\n",
       "<style scoped>\n",
       "    .dataframe tbody tr th:only-of-type {\n",
       "        vertical-align: middle;\n",
       "    }\n",
       "\n",
       "    .dataframe tbody tr th {\n",
       "        vertical-align: top;\n",
       "    }\n",
       "\n",
       "    .dataframe thead th {\n",
       "        text-align: right;\n",
       "    }\n",
       "</style>\n",
       "<table border=\"1\" class=\"dataframe\">\n",
       "  <thead>\n",
       "    <tr style=\"text-align: right;\">\n",
       "      <th></th>\n",
       "      <th>user_id</th>\n",
       "      <th>ts</th>\n",
       "      <th>gate_id</th>\n",
       "    </tr>\n",
       "  </thead>\n",
       "  <tbody>\n",
       "    <tr>\n",
       "      <th>0</th>\n",
       "      <td>18</td>\n",
       "      <td>2022-07-29 09:08:54</td>\n",
       "      <td>7</td>\n",
       "    </tr>\n",
       "    <tr>\n",
       "      <th>1</th>\n",
       "      <td>18</td>\n",
       "      <td>2022-07-29 09:09:54</td>\n",
       "      <td>9</td>\n",
       "    </tr>\n",
       "    <tr>\n",
       "      <th>2</th>\n",
       "      <td>18</td>\n",
       "      <td>2022-07-29 09:09:54</td>\n",
       "      <td>9</td>\n",
       "    </tr>\n",
       "  </tbody>\n",
       "</table>\n",
       "</div>"
      ],
      "text/plain": [
       "   user_id                   ts  gate_id\n",
       "0       18  2022-07-29 09:08:54        7\n",
       "1       18  2022-07-29 09:09:54        9\n",
       "2       18  2022-07-29 09:09:54        9"
      ]
     },
     "execution_count": 6,
     "metadata": {},
     "output_type": "execute_result"
    }
   ],
   "source": [
    "train_df.head(3)"
   ]
  },
  {
   "cell_type": "code",
   "execution_count": 7,
   "id": "6b845f9a",
   "metadata": {},
   "outputs": [
    {
     "data": {
      "text/plain": [
       "(37518, 3)"
      ]
     },
     "execution_count": 7,
     "metadata": {},
     "output_type": "execute_result"
    }
   ],
   "source": [
    "train_df.shape"
   ]
  },
  {
   "cell_type": "code",
   "execution_count": 8,
   "id": "c5a7b3dd",
   "metadata": {},
   "outputs": [
    {
     "data": {
      "text/plain": [
       "array([18,  1,  3,  6, 29, 55, 24, 39, 47, 33,  0, 31, 37, 26, 50, 49, 53,\n",
       "       20, 54, 19, 12, 46, 27, 25, 11, 15,  9, 48, 40, 56, 34, 22, 45, 23,\n",
       "       57,  4,  8, 52, 32, 28,  7, 36, 42, 14, 35, 17,  5, 38, 41, 43, 10,\n",
       "       51, 21, 30, 44,  2], dtype=int64)"
      ]
     },
     "execution_count": 8,
     "metadata": {},
     "output_type": "execute_result"
    }
   ],
   "source": [
    "train_df['user_id'].unique()"
   ]
  },
  {
   "cell_type": "code",
   "execution_count": 9,
   "id": "f6a4c19a",
   "metadata": {},
   "outputs": [
    {
     "data": {
      "text/plain": [
       "array([ 7,  9,  5, 10, 11,  4, 12,  3, 15,  6, 13, -1,  8,  1,  0, 16, 14],\n",
       "      dtype=int64)"
      ]
     },
     "execution_count": 9,
     "metadata": {},
     "output_type": "execute_result"
    }
   ],
   "source": [
    "train_df['gate_id'].unique()"
   ]
  },
  {
   "cell_type": "code",
   "execution_count": 10,
   "id": "56740651",
   "metadata": {},
   "outputs": [],
   "source": [
    "list_users = train_df['user_id'].unique()"
   ]
  },
  {
   "cell_type": "code",
   "execution_count": 11,
   "id": "181eb126",
   "metadata": {},
   "outputs": [],
   "source": [
    "train_df['ts'] = pd.to_datetime(train_df['ts'])"
   ]
  },
  {
   "cell_type": "code",
   "execution_count": 12,
   "id": "c90cbd6b",
   "metadata": {},
   "outputs": [],
   "source": [
    "all_data['ts'] = pd.to_datetime(all_data['ts'])"
   ]
  },
  {
   "cell_type": "code",
   "execution_count": 13,
   "id": "189e042b",
   "metadata": {},
   "outputs": [
    {
     "data": {
      "text/html": [
       "<div>\n",
       "<style scoped>\n",
       "    .dataframe tbody tr th:only-of-type {\n",
       "        vertical-align: middle;\n",
       "    }\n",
       "\n",
       "    .dataframe tbody tr th {\n",
       "        vertical-align: top;\n",
       "    }\n",
       "\n",
       "    .dataframe thead th {\n",
       "        text-align: right;\n",
       "    }\n",
       "</style>\n",
       "<table border=\"1\" class=\"dataframe\">\n",
       "  <thead>\n",
       "    <tr style=\"text-align: right;\">\n",
       "      <th></th>\n",
       "      <th>user_id</th>\n",
       "      <th>ts</th>\n",
       "      <th>gate_id</th>\n",
       "    </tr>\n",
       "  </thead>\n",
       "  <tbody>\n",
       "    <tr>\n",
       "      <th>0</th>\n",
       "      <td>18</td>\n",
       "      <td>2022-07-29 09:08:54</td>\n",
       "      <td>7</td>\n",
       "    </tr>\n",
       "    <tr>\n",
       "      <th>1</th>\n",
       "      <td>18</td>\n",
       "      <td>2022-07-29 09:09:54</td>\n",
       "      <td>9</td>\n",
       "    </tr>\n",
       "    <tr>\n",
       "      <th>2</th>\n",
       "      <td>18</td>\n",
       "      <td>2022-07-29 09:09:54</td>\n",
       "      <td>9</td>\n",
       "    </tr>\n",
       "    <tr>\n",
       "      <th>3</th>\n",
       "      <td>18</td>\n",
       "      <td>2022-07-29 09:10:06</td>\n",
       "      <td>5</td>\n",
       "    </tr>\n",
       "    <tr>\n",
       "      <th>4</th>\n",
       "      <td>18</td>\n",
       "      <td>2022-07-29 09:10:08</td>\n",
       "      <td>5</td>\n",
       "    </tr>\n",
       "  </tbody>\n",
       "</table>\n",
       "</div>"
      ],
      "text/plain": [
       "   user_id                  ts  gate_id\n",
       "0       18 2022-07-29 09:08:54        7\n",
       "1       18 2022-07-29 09:09:54        9\n",
       "2       18 2022-07-29 09:09:54        9\n",
       "3       18 2022-07-29 09:10:06        5\n",
       "4       18 2022-07-29 09:10:08        5"
      ]
     },
     "execution_count": 13,
     "metadata": {},
     "output_type": "execute_result"
    }
   ],
   "source": [
    "train_df.head()"
   ]
  },
  {
   "cell_type": "code",
   "execution_count": 14,
   "id": "42967c6c",
   "metadata": {},
   "outputs": [
    {
     "data": {
      "text/plain": [
       "[-1, 0, 1, 2, 3, 4, 5, 6, 7, 8, 9, 10, 11, 12, 13, 14, 15, 16]"
      ]
     },
     "execution_count": 14,
     "metadata": {},
     "output_type": "execute_result"
    }
   ],
   "source": [
    "all_gates = sorted(list(all_data['gate_id'].unique()))\n",
    "all_gates"
   ]
  },
  {
   "cell_type": "code",
   "execution_count": 15,
   "id": "78c97854",
   "metadata": {},
   "outputs": [],
   "source": [
    "train_df.sort_values(by='ts', inplace=True)"
   ]
  },
  {
   "cell_type": "code",
   "execution_count": null,
   "id": "444aa6c0",
   "metadata": {},
   "outputs": [],
   "source": []
  },
  {
   "cell_type": "code",
   "execution_count": 16,
   "id": "d26c493b",
   "metadata": {},
   "outputs": [],
   "source": [
    "user_data = []\n",
    "feats = ['user_id']\n",
    "for user in list_users:\n",
    "    user_df = train_df[train_df['user_id'] == user]\n",
    "    dates = user_df['ts'].dt.date.unique()\n",
    "    for date in dates:\n",
    "        user_dict = user_df[user_df['ts'].dt.date == date][feats].to_dict('records')[0]\n",
    "        i = 1\n",
    "        time_0 = datetime.datetime(date.year, date.month, date.day, 0, 0)\n",
    "        for index, row in user_df[user_df['ts'].dt.date == date][['gate_id', 'ts']][:20].iterrows():\n",
    "            gate = row[0]\n",
    "            ts = row[1]\n",
    "            ts_delta = ts - time_0\n",
    "            user_dict['gate_'+str(i)] = gate\n",
    "            user_dict['time_'+str(i)] = ts_delta.total_seconds()\n",
    "            time_0 = ts\n",
    "            i += 1        \n",
    "        user_data.append(user_dict)            "
   ]
  },
  {
   "cell_type": "code",
   "execution_count": 17,
   "id": "5b07e758",
   "metadata": {},
   "outputs": [],
   "source": [
    "new_train = pd.DataFrame(user_data)"
   ]
  },
  {
   "cell_type": "code",
   "execution_count": 18,
   "id": "c67065cb",
   "metadata": {},
   "outputs": [
    {
     "data": {
      "text/html": [
       "<div>\n",
       "<style scoped>\n",
       "    .dataframe tbody tr th:only-of-type {\n",
       "        vertical-align: middle;\n",
       "    }\n",
       "\n",
       "    .dataframe tbody tr th {\n",
       "        vertical-align: top;\n",
       "    }\n",
       "\n",
       "    .dataframe thead th {\n",
       "        text-align: right;\n",
       "    }\n",
       "</style>\n",
       "<table border=\"1\" class=\"dataframe\">\n",
       "  <thead>\n",
       "    <tr style=\"text-align: right;\">\n",
       "      <th></th>\n",
       "      <th>user_id</th>\n",
       "      <th>gate_1</th>\n",
       "      <th>time_1</th>\n",
       "      <th>gate_2</th>\n",
       "      <th>time_2</th>\n",
       "      <th>gate_3</th>\n",
       "      <th>time_3</th>\n",
       "      <th>gate_4</th>\n",
       "      <th>time_4</th>\n",
       "      <th>gate_5</th>\n",
       "      <th>...</th>\n",
       "      <th>gate_16</th>\n",
       "      <th>time_16</th>\n",
       "      <th>gate_17</th>\n",
       "      <th>time_17</th>\n",
       "      <th>gate_18</th>\n",
       "      <th>time_18</th>\n",
       "      <th>gate_19</th>\n",
       "      <th>time_19</th>\n",
       "      <th>gate_20</th>\n",
       "      <th>time_20</th>\n",
       "    </tr>\n",
       "  </thead>\n",
       "  <tbody>\n",
       "    <tr>\n",
       "      <th>0</th>\n",
       "      <td>18</td>\n",
       "      <td>7</td>\n",
       "      <td>32934.0</td>\n",
       "      <td>9.0</td>\n",
       "      <td>60.0</td>\n",
       "      <td>9.0</td>\n",
       "      <td>0.0</td>\n",
       "      <td>5.0</td>\n",
       "      <td>12.0</td>\n",
       "      <td>5.0</td>\n",
       "      <td>...</td>\n",
       "      <td>12.0</td>\n",
       "      <td>2.0</td>\n",
       "      <td>11.0</td>\n",
       "      <td>3419.0</td>\n",
       "      <td>4.0</td>\n",
       "      <td>29.0</td>\n",
       "      <td>4.0</td>\n",
       "      <td>2.0</td>\n",
       "      <td>7.0</td>\n",
       "      <td>371.0</td>\n",
       "    </tr>\n",
       "    <tr>\n",
       "      <th>1</th>\n",
       "      <td>18</td>\n",
       "      <td>7</td>\n",
       "      <td>44405.0</td>\n",
       "      <td>9.0</td>\n",
       "      <td>63.0</td>\n",
       "      <td>9.0</td>\n",
       "      <td>0.0</td>\n",
       "      <td>5.0</td>\n",
       "      <td>14.0</td>\n",
       "      <td>5.0</td>\n",
       "      <td>...</td>\n",
       "      <td>4.0</td>\n",
       "      <td>25.0</td>\n",
       "      <td>4.0</td>\n",
       "      <td>2.0</td>\n",
       "      <td>9.0</td>\n",
       "      <td>8.0</td>\n",
       "      <td>9.0</td>\n",
       "      <td>0.0</td>\n",
       "      <td>NaN</td>\n",
       "      <td>NaN</td>\n",
       "    </tr>\n",
       "    <tr>\n",
       "      <th>2</th>\n",
       "      <td>18</td>\n",
       "      <td>7</td>\n",
       "      <td>56696.0</td>\n",
       "      <td>7.0</td>\n",
       "      <td>2117.0</td>\n",
       "      <td>5.0</td>\n",
       "      <td>73.0</td>\n",
       "      <td>5.0</td>\n",
       "      <td>2.0</td>\n",
       "      <td>10.0</td>\n",
       "      <td>...</td>\n",
       "      <td>13.0</td>\n",
       "      <td>4184.0</td>\n",
       "      <td>13.0</td>\n",
       "      <td>1.0</td>\n",
       "      <td>12.0</td>\n",
       "      <td>314.0</td>\n",
       "      <td>12.0</td>\n",
       "      <td>1.0</td>\n",
       "      <td>4.0</td>\n",
       "      <td>2464.0</td>\n",
       "    </tr>\n",
       "  </tbody>\n",
       "</table>\n",
       "<p>3 rows × 41 columns</p>\n",
       "</div>"
      ],
      "text/plain": [
       "   user_id  gate_1   time_1  gate_2  time_2  gate_3  time_3  gate_4  time_4   \n",
       "0       18       7  32934.0     9.0    60.0     9.0     0.0     5.0    12.0  \\\n",
       "1       18       7  44405.0     9.0    63.0     9.0     0.0     5.0    14.0   \n",
       "2       18       7  56696.0     7.0  2117.0     5.0    73.0     5.0     2.0   \n",
       "\n",
       "   gate_5  ...  gate_16  time_16  gate_17  time_17  gate_18  time_18  gate_19   \n",
       "0     5.0  ...     12.0      2.0     11.0   3419.0      4.0     29.0      4.0  \\\n",
       "1     5.0  ...      4.0     25.0      4.0      2.0      9.0      8.0      9.0   \n",
       "2    10.0  ...     13.0   4184.0     13.0      1.0     12.0    314.0     12.0   \n",
       "\n",
       "   time_19  gate_20  time_20  \n",
       "0      2.0      7.0    371.0  \n",
       "1      0.0      NaN      NaN  \n",
       "2      1.0      4.0   2464.0  \n",
       "\n",
       "[3 rows x 41 columns]"
      ]
     },
     "execution_count": 18,
     "metadata": {},
     "output_type": "execute_result"
    }
   ],
   "source": [
    "new_train.head(3)"
   ]
  },
  {
   "cell_type": "code",
   "execution_count": 19,
   "id": "4d828bc2",
   "metadata": {},
   "outputs": [
    {
     "data": {
      "text/plain": [
       "user_id\n",
       "33    102\n",
       "37    101\n",
       "12     98\n",
       "1      98\n",
       "0      97\n",
       "6      95\n",
       "39     95\n",
       "11     94\n",
       "49     94\n",
       "32     93\n",
       "3      93\n",
       "15     92\n",
       "19     90\n",
       "50     90\n",
       "54     90\n",
       "29     83\n",
       "55     73\n",
       "47     70\n",
       "14     68\n",
       "18     67\n",
       "53     64\n",
       "9      60\n",
       "48     58\n",
       "46     56\n",
       "17     53\n",
       "27     44\n",
       "35     41\n",
       "57     40\n",
       "25     33\n",
       "23     31\n",
       "24     30\n",
       "40     28\n",
       "42     25\n",
       "34     21\n",
       "56     20\n",
       "31     19\n",
       "26     18\n",
       "43     17\n",
       "20     12\n",
       "45      9\n",
       "28      9\n",
       "7       8\n",
       "22      8\n",
       "36      7\n",
       "41      7\n",
       "2       3\n",
       "8       2\n",
       "5       2\n",
       "38      2\n",
       "10      2\n",
       "51      2\n",
       "21      2\n",
       "30      2\n",
       "52      1\n",
       "4       1\n",
       "44      1\n",
       "Name: count, dtype: int64"
      ]
     },
     "execution_count": 19,
     "metadata": {},
     "output_type": "execute_result"
    }
   ],
   "source": [
    "new_train['user_id'].value_counts()"
   ]
  },
  {
   "cell_type": "code",
   "execution_count": 20,
   "id": "d5440bc8",
   "metadata": {},
   "outputs": [],
   "source": [
    "new_train = new_train[new_train['user_id'] != 52] # Потому что одна строка"
   ]
  },
  {
   "cell_type": "code",
   "execution_count": 21,
   "id": "46070029",
   "metadata": {},
   "outputs": [],
   "source": [
    "new_train = new_train[new_train['user_id'] != 4] # Потому что одна строка"
   ]
  },
  {
   "cell_type": "code",
   "execution_count": 22,
   "id": "67aa98ed",
   "metadata": {},
   "outputs": [],
   "source": [
    "new_train = new_train[new_train['user_id'] != 44] # Потому что одна строка"
   ]
  },
  {
   "cell_type": "code",
   "execution_count": 23,
   "id": "0a79e263",
   "metadata": {},
   "outputs": [
    {
     "data": {
      "text/plain": [
       "(2518, 41)"
      ]
     },
     "execution_count": 23,
     "metadata": {},
     "output_type": "execute_result"
    }
   ],
   "source": [
    "new_train.shape"
   ]
  },
  {
   "cell_type": "code",
   "execution_count": 24,
   "id": "e9610425",
   "metadata": {},
   "outputs": [],
   "source": [
    "from sklearn.utils import shuffle"
   ]
  },
  {
   "cell_type": "code",
   "execution_count": 25,
   "id": "546d54ee",
   "metadata": {},
   "outputs": [],
   "source": [
    "new_train = shuffle(new_train, random_state=1)"
   ]
  },
  {
   "cell_type": "code",
   "execution_count": 26,
   "id": "99bb1761",
   "metadata": {},
   "outputs": [],
   "source": [
    "cat_features = []\n",
    "for i in range(1,21):\n",
    "    cat_features.append('gate_'+str(i))"
   ]
  },
  {
   "cell_type": "code",
   "execution_count": 27,
   "id": "373ad22e",
   "metadata": {},
   "outputs": [],
   "source": [
    "for c_f in cat_features:\n",
    "    new_train[c_f] = new_train[c_f].astype(str)"
   ]
  },
  {
   "cell_type": "code",
   "execution_count": 28,
   "id": "13e460a2",
   "metadata": {},
   "outputs": [],
   "source": [
    "from catboost import CatBoostClassifier"
   ]
  },
  {
   "cell_type": "code",
   "execution_count": 29,
   "id": "83a2402f",
   "metadata": {},
   "outputs": [],
   "source": [
    "total_features = ['gate_1', 'time_1', 'gate_2', 'time_2', 'gate_3',\n",
    "                   'time_3', 'gate_4', 'time_4', 'gate_5', 'time_5', 'gate_6', 'time_6',\n",
    "                 'gate_7', 'gate_8', 'time_8', 'gate_9', 'time_9', 'gate_11', 'gate_12',\n",
    "                 'gate_13', 'gate_14', 'gate_15', 'gate_19', 'gate_20', 'time_18']"
   ]
  },
  {
   "cell_type": "code",
   "execution_count": 30,
   "id": "d8bb14af",
   "metadata": {},
   "outputs": [],
   "source": [
    "cat_features = ['gate_1', 'gate_2', 'gate_3',\n",
    "                 'gate_4', 'gate_5', 'gate_6', \n",
    "                 'gate_7', 'gate_8', 'gate_9', 'gate_11', 'gate_12',\n",
    "                 'gate_13', 'gate_14', 'gate_15', 'gate_19', 'gate_20']"
   ]
  },
  {
   "cell_type": "code",
   "execution_count": 31,
   "id": "a5e68753",
   "metadata": {},
   "outputs": [],
   "source": [
    "# Выберем некоторые признаки"
   ]
  },
  {
   "cell_type": "code",
   "execution_count": 32,
   "id": "cf59a8ba",
   "metadata": {},
   "outputs": [],
   "source": [
    "X = new_train[total_features]"
   ]
  },
  {
   "cell_type": "code",
   "execution_count": 33,
   "id": "776045f6",
   "metadata": {},
   "outputs": [],
   "source": [
    "y = new_train['user_id']"
   ]
  },
  {
   "cell_type": "code",
   "execution_count": 34,
   "id": "4277cfe0",
   "metadata": {},
   "outputs": [
    {
     "name": "stdout",
     "output_type": "stream",
     "text": [
      "0:\tlearn: 3.6136161\ttotal: 6.43s\tremaining: 37m 25s\n",
      "1:\tlearn: 3.4198031\ttotal: 12.8s\tremaining: 37m 13s\n",
      "2:\tlearn: 3.2665105\ttotal: 19.5s\tremaining: 37m 31s\n",
      "3:\tlearn: 3.1496234\ttotal: 26.2s\tremaining: 37m 48s\n",
      "4:\tlearn: 3.0135516\ttotal: 32s\tremaining: 36m 44s\n",
      "5:\tlearn: 2.8752443\ttotal: 39.3s\tremaining: 37m 35s\n",
      "6:\tlearn: 2.8347840\ttotal: 46.1s\tremaining: 37m 39s\n",
      "7:\tlearn: 2.7848802\ttotal: 53s\tremaining: 37m 43s\n",
      "8:\tlearn: 2.7350752\ttotal: 1m 2s\tremaining: 39m 28s\n",
      "9:\tlearn: 2.6839884\ttotal: 1m 17s\tremaining: 44m 2s\n",
      "10:\tlearn: 2.6576609\ttotal: 1m 24s\tremaining: 43m 35s\n",
      "11:\tlearn: 2.6037525\ttotal: 1m 32s\tremaining: 43m 24s\n",
      "12:\tlearn: 2.5795314\ttotal: 1m 39s\tremaining: 43m 5s\n",
      "13:\tlearn: 2.5561464\ttotal: 1m 46s\tremaining: 42m 44s\n",
      "14:\tlearn: 2.5153781\ttotal: 1m 53s\tremaining: 42m 10s\n",
      "15:\tlearn: 2.4970434\ttotal: 1m 59s\tremaining: 41m 39s\n",
      "16:\tlearn: 2.4821093\ttotal: 2m 6s\tremaining: 41m 12s\n",
      "17:\tlearn: 2.4588426\ttotal: 2m 13s\tremaining: 41m 9s\n",
      "18:\tlearn: 2.4271159\ttotal: 2m 19s\tremaining: 40m 26s\n",
      "19:\tlearn: 2.4116801\ttotal: 2m 25s\tremaining: 40m 4s\n",
      "20:\tlearn: 2.3852610\ttotal: 2m 32s\tremaining: 39m 44s\n",
      "21:\tlearn: 2.3750307\ttotal: 2m 39s\tremaining: 39m 32s\n",
      "22:\tlearn: 2.3492882\ttotal: 2m 47s\tremaining: 39m 38s\n",
      "23:\tlearn: 2.3095639\ttotal: 2m 54s\tremaining: 39m 25s\n",
      "24:\tlearn: 2.2923477\ttotal: 3m 1s\tremaining: 39m 16s\n",
      "25:\tlearn: 2.2694663\ttotal: 3m 7s\tremaining: 39m\n",
      "26:\tlearn: 2.2361499\ttotal: 3m 14s\tremaining: 38m 46s\n",
      "27:\tlearn: 2.2145250\ttotal: 3m 20s\tremaining: 38m 30s\n",
      "28:\tlearn: 2.1741825\ttotal: 3m 26s\tremaining: 38m 3s\n",
      "29:\tlearn: 2.1450412\ttotal: 3m 31s\tremaining: 37m 37s\n",
      "30:\tlearn: 2.1356604\ttotal: 3m 36s\tremaining: 37m 3s\n",
      "31:\tlearn: 2.0901485\ttotal: 3m 41s\tremaining: 36m 40s\n",
      "32:\tlearn: 2.0531901\ttotal: 3m 48s\tremaining: 36m 38s\n",
      "33:\tlearn: 2.0233666\ttotal: 3m 57s\tremaining: 36m 45s\n",
      "34:\tlearn: 1.9842021\ttotal: 4m 5s\tremaining: 36m 53s\n",
      "35:\tlearn: 1.9455790\ttotal: 4m 12s\tremaining: 36m 38s\n",
      "36:\tlearn: 1.9305076\ttotal: 4m 20s\tremaining: 36m 47s\n",
      "37:\tlearn: 1.9249431\ttotal: 4m 29s\tremaining: 36m 50s\n",
      "38:\tlearn: 1.8999631\ttotal: 4m 35s\tremaining: 36m 34s\n",
      "39:\tlearn: 1.8755154\ttotal: 4m 41s\tremaining: 36m 20s\n",
      "40:\tlearn: 1.8560981\ttotal: 4m 48s\tremaining: 36m 12s\n",
      "41:\tlearn: 1.8466918\ttotal: 4m 56s\tremaining: 36m 14s\n",
      "42:\tlearn: 1.8208125\ttotal: 5m 2s\tremaining: 35m 58s\n",
      "43:\tlearn: 1.8121992\ttotal: 5m 10s\tremaining: 36m\n",
      "44:\tlearn: 1.7972133\ttotal: 5m 18s\tremaining: 35m 58s\n",
      "45:\tlearn: 1.7885994\ttotal: 5m 25s\tremaining: 35m 53s\n",
      "46:\tlearn: 1.7791790\ttotal: 5m 33s\tremaining: 35m 47s\n",
      "47:\tlearn: 1.7711473\ttotal: 5m 41s\tremaining: 35m 46s\n",
      "48:\tlearn: 1.7612094\ttotal: 5m 47s\tremaining: 35m 32s\n",
      "49:\tlearn: 1.7467487\ttotal: 5m 54s\tremaining: 35m 25s\n",
      "50:\tlearn: 1.7296685\ttotal: 6m\tremaining: 35m 11s\n",
      "51:\tlearn: 1.7267983\ttotal: 6m 5s\tremaining: 34m 54s\n",
      "52:\tlearn: 1.7134871\ttotal: 6m 10s\tremaining: 34m 34s\n",
      "53:\tlearn: 1.7008127\ttotal: 6m 16s\tremaining: 34m 22s\n",
      "54:\tlearn: 1.6990353\ttotal: 6m 22s\tremaining: 34m 12s\n",
      "55:\tlearn: 1.6935297\ttotal: 6m 29s\tremaining: 34m 3s\n",
      "56:\tlearn: 1.6893291\ttotal: 6m 34s\tremaining: 33m 49s\n",
      "57:\tlearn: 1.6712294\ttotal: 6m 39s\tremaining: 33m 31s\n",
      "58:\tlearn: 1.6691548\ttotal: 6m 46s\tremaining: 33m 22s\n",
      "59:\tlearn: 1.6675571\ttotal: 6m 57s\tremaining: 33m 38s\n",
      "60:\tlearn: 1.6672485\ttotal: 7m 5s\tremaining: 33m 34s\n",
      "61:\tlearn: 1.6518799\ttotal: 7m 12s\tremaining: 33m 28s\n",
      "62:\tlearn: 1.6391376\ttotal: 7m 19s\tremaining: 33m 23s\n",
      "63:\tlearn: 1.6387678\ttotal: 7m 26s\tremaining: 33m 16s\n",
      "64:\tlearn: 1.6378957\ttotal: 7m 33s\tremaining: 33m 8s\n",
      "65:\tlearn: 1.6147223\ttotal: 7m 40s\tremaining: 33m\n",
      "66:\tlearn: 1.6115519\ttotal: 7m 46s\tremaining: 32m 51s\n",
      "67:\tlearn: 1.6091477\ttotal: 7m 51s\tremaining: 32m 37s\n",
      "68:\tlearn: 1.6053014\ttotal: 7m 58s\tremaining: 32m 27s\n",
      "69:\tlearn: 1.5966238\ttotal: 8m 4s\tremaining: 32m 17s\n",
      "70:\tlearn: 1.5857045\ttotal: 8m 12s\tremaining: 32m 13s\n",
      "71:\tlearn: 1.5802173\ttotal: 8m 19s\tremaining: 32m 8s\n",
      "72:\tlearn: 1.5718510\ttotal: 8m 25s\tremaining: 31m 58s\n",
      "73:\tlearn: 1.5580425\ttotal: 8m 31s\tremaining: 31m 47s\n",
      "74:\tlearn: 1.5575886\ttotal: 8m 37s\tremaining: 31m 38s\n",
      "75:\tlearn: 1.5540458\ttotal: 8m 43s\tremaining: 31m 28s\n",
      "76:\tlearn: 1.5522405\ttotal: 8m 50s\tremaining: 31m 20s\n",
      "77:\tlearn: 1.5496347\ttotal: 8m 56s\tremaining: 31m 10s\n",
      "78:\tlearn: 1.5403795\ttotal: 9m 2s\tremaining: 31m\n",
      "79:\tlearn: 1.5313445\ttotal: 9m 8s\tremaining: 30m 51s\n",
      "80:\tlearn: 1.5274035\ttotal: 9m 15s\tremaining: 30m 43s\n",
      "81:\tlearn: 1.5241521\ttotal: 9m 20s\tremaining: 30m 33s\n",
      "82:\tlearn: 1.5121955\ttotal: 9m 26s\tremaining: 30m 23s\n",
      "83:\tlearn: 1.5029004\ttotal: 9m 32s\tremaining: 30m 13s\n",
      "84:\tlearn: 1.5000576\ttotal: 9m 39s\tremaining: 30m 5s\n",
      "85:\tlearn: 1.4944912\ttotal: 9m 45s\tremaining: 29m 56s\n",
      "86:\tlearn: 1.4941320\ttotal: 9m 51s\tremaining: 29m 47s\n",
      "87:\tlearn: 1.4935132\ttotal: 9m 57s\tremaining: 29m 39s\n",
      "88:\tlearn: 1.4914441\ttotal: 10m 4s\tremaining: 29m 31s\n",
      "89:\tlearn: 1.4909658\ttotal: 10m 10s\tremaining: 29m 23s\n",
      "90:\tlearn: 1.4900562\ttotal: 10m 16s\tremaining: 29m 15s\n",
      "91:\tlearn: 1.4847117\ttotal: 10m 22s\tremaining: 29m 5s\n",
      "92:\tlearn: 1.4838423\ttotal: 10m 27s\tremaining: 28m 54s\n",
      "93:\tlearn: 1.4810003\ttotal: 10m 34s\tremaining: 28m 47s\n",
      "94:\tlearn: 1.4761832\ttotal: 10m 39s\tremaining: 28m 37s\n",
      "95:\tlearn: 1.4739308\ttotal: 10m 44s\tremaining: 28m 26s\n",
      "96:\tlearn: 1.4709538\ttotal: 10m 51s\tremaining: 28m 18s\n",
      "97:\tlearn: 1.4661897\ttotal: 10m 57s\tremaining: 28m 10s\n",
      "98:\tlearn: 1.4495486\ttotal: 11m 2s\tremaining: 27m 58s\n",
      "99:\tlearn: 1.4493774\ttotal: 11m 8s\tremaining: 27m 50s\n",
      "100:\tlearn: 1.4462374\ttotal: 11m 14s\tremaining: 27m 43s\n",
      "101:\tlearn: 1.4458143\ttotal: 11m 20s\tremaining: 27m 35s\n",
      "102:\tlearn: 1.4453591\ttotal: 11m 27s\tremaining: 27m 28s\n",
      "103:\tlearn: 1.4391760\ttotal: 11m 32s\tremaining: 27m 18s\n",
      "104:\tlearn: 1.4389298\ttotal: 11m 38s\tremaining: 27m 10s\n",
      "105:\tlearn: 1.4298317\ttotal: 11m 45s\tremaining: 27m 2s\n",
      "106:\tlearn: 1.4250932\ttotal: 11m 50s\tremaining: 26m 54s\n",
      "107:\tlearn: 1.4224909\ttotal: 11m 55s\tremaining: 26m 44s\n",
      "108:\tlearn: 1.4142357\ttotal: 12m 2s\tremaining: 26m 37s\n",
      "109:\tlearn: 1.4043804\ttotal: 12m 8s\tremaining: 26m 30s\n",
      "110:\tlearn: 1.4013115\ttotal: 12m 14s\tremaining: 26m 22s\n",
      "111:\tlearn: 1.3974295\ttotal: 12m 20s\tremaining: 26m 13s\n",
      "112:\tlearn: 1.3946126\ttotal: 12m 26s\tremaining: 26m 5s\n",
      "113:\tlearn: 1.3943262\ttotal: 12m 32s\tremaining: 25m 58s\n",
      "114:\tlearn: 1.3922838\ttotal: 12m 38s\tremaining: 25m 50s\n",
      "115:\tlearn: 1.3897978\ttotal: 12m 45s\tremaining: 25m 43s\n",
      "116:\tlearn: 1.3878496\ttotal: 12m 50s\tremaining: 25m 34s\n",
      "117:\tlearn: 1.3855462\ttotal: 12m 56s\tremaining: 25m 27s\n",
      "118:\tlearn: 1.3785929\ttotal: 13m 2s\tremaining: 25m 19s\n",
      "119:\tlearn: 1.3779816\ttotal: 13m 8s\tremaining: 25m 11s\n",
      "120:\tlearn: 1.3733714\ttotal: 13m 14s\tremaining: 25m 4s\n",
      "121:\tlearn: 1.3699005\ttotal: 13m 21s\tremaining: 24m 57s\n",
      "122:\tlearn: 1.3666145\ttotal: 13m 26s\tremaining: 24m 48s\n",
      "123:\tlearn: 1.3654487\ttotal: 13m 32s\tremaining: 24m 40s\n",
      "124:\tlearn: 1.3632668\ttotal: 13m 38s\tremaining: 24m 32s\n",
      "125:\tlearn: 1.3619005\ttotal: 13m 44s\tremaining: 24m 25s\n",
      "126:\tlearn: 1.3600009\ttotal: 13m 50s\tremaining: 24m 18s\n",
      "127:\tlearn: 1.3552676\ttotal: 13m 57s\tremaining: 24m 11s\n",
      "128:\tlearn: 1.3538630\ttotal: 14m 2s\tremaining: 24m 2s\n",
      "129:\tlearn: 1.3507298\ttotal: 14m 8s\tremaining: 23m 55s\n",
      "130:\tlearn: 1.3426158\ttotal: 14m 14s\tremaining: 23m 49s\n",
      "131:\tlearn: 1.3363583\ttotal: 14m 21s\tremaining: 23m 42s\n",
      "132:\tlearn: 1.3344758\ttotal: 14m 26s\tremaining: 23m 33s\n",
      "133:\tlearn: 1.3311591\ttotal: 14m 32s\tremaining: 23m 26s\n",
      "134:\tlearn: 1.3309394\ttotal: 14m 38s\tremaining: 23m 19s\n",
      "135:\tlearn: 1.3292780\ttotal: 14m 45s\tremaining: 23m 13s\n",
      "136:\tlearn: 1.3231907\ttotal: 14m 51s\tremaining: 23m 5s\n",
      "137:\tlearn: 1.3218828\ttotal: 14m 57s\tremaining: 22m 58s\n",
      "138:\tlearn: 1.3201324\ttotal: 15m 2s\tremaining: 22m 50s\n",
      "139:\tlearn: 1.3152286\ttotal: 15m 8s\tremaining: 22m 43s\n",
      "140:\tlearn: 1.3134424\ttotal: 15m 15s\tremaining: 22m 36s\n",
      "141:\tlearn: 1.3075878\ttotal: 15m 21s\tremaining: 22m 29s\n",
      "142:\tlearn: 1.3053529\ttotal: 15m 27s\tremaining: 22m 23s\n",
      "143:\tlearn: 1.3050504\ttotal: 15m 34s\tremaining: 22m 16s\n",
      "144:\tlearn: 1.3002631\ttotal: 15m 39s\tremaining: 22m 8s\n",
      "145:\tlearn: 1.2963194\ttotal: 15m 46s\tremaining: 22m 2s\n",
      "146:\tlearn: 1.2941060\ttotal: 15m 52s\tremaining: 21m 55s\n",
      "147:\tlearn: 1.2926805\ttotal: 15m 58s\tremaining: 21m 48s\n",
      "148:\tlearn: 1.2903593\ttotal: 16m 4s\tremaining: 21m 41s\n",
      "149:\tlearn: 1.2884251\ttotal: 16m 10s\tremaining: 21m 34s\n",
      "150:\tlearn: 1.2882463\ttotal: 16m 17s\tremaining: 21m 27s\n",
      "151:\tlearn: 1.2840841\ttotal: 16m 21s\tremaining: 21m 18s\n"
     ]
    },
    {
     "name": "stdout",
     "output_type": "stream",
     "text": [
      "152:\tlearn: 1.2783002\ttotal: 16m 27s\tremaining: 21m 12s\n",
      "153:\tlearn: 1.2749230\ttotal: 16m 34s\tremaining: 21m 5s\n",
      "154:\tlearn: 1.2691474\ttotal: 16m 38s\tremaining: 20m 56s\n",
      "155:\tlearn: 1.2663472\ttotal: 16m 43s\tremaining: 20m 48s\n",
      "156:\tlearn: 1.2629337\ttotal: 16m 49s\tremaining: 20m 40s\n",
      "157:\tlearn: 1.2596811\ttotal: 17m\tremaining: 20m 39s\n",
      "158:\tlearn: 1.2572925\ttotal: 17m 8s\tremaining: 20m 35s\n",
      "159:\tlearn: 1.2523612\ttotal: 17m 14s\tremaining: 20m 27s\n",
      "160:\tlearn: 1.2488759\ttotal: 17m 29s\tremaining: 20m 32s\n",
      "161:\tlearn: 1.2443502\ttotal: 17m 40s\tremaining: 20m 30s\n",
      "162:\tlearn: 1.2426418\ttotal: 17m 49s\tremaining: 20m 26s\n",
      "163:\tlearn: 1.2394704\ttotal: 17m 57s\tremaining: 20m 22s\n",
      "164:\tlearn: 1.2379472\ttotal: 18m 6s\tremaining: 20m 18s\n",
      "165:\tlearn: 1.2349626\ttotal: 18m 16s\tremaining: 20m 14s\n",
      "166:\tlearn: 1.2348720\ttotal: 18m 25s\tremaining: 20m 11s\n",
      "167:\tlearn: 1.2329270\ttotal: 18m 32s\tremaining: 20m 5s\n",
      "168:\tlearn: 1.2248483\ttotal: 18m 41s\tremaining: 20m 1s\n",
      "169:\tlearn: 1.2222947\ttotal: 18m 49s\tremaining: 19m 56s\n",
      "170:\tlearn: 1.2161851\ttotal: 18m 59s\tremaining: 19m 53s\n",
      "171:\tlearn: 1.2159622\ttotal: 19m 6s\tremaining: 19m 46s\n",
      "172:\tlearn: 1.2142228\ttotal: 19m 13s\tremaining: 19m 39s\n",
      "173:\tlearn: 1.2140479\ttotal: 19m 19s\tremaining: 19m 32s\n",
      "174:\tlearn: 1.2112167\ttotal: 19m 24s\tremaining: 19m 24s\n",
      "175:\tlearn: 1.2110016\ttotal: 19m 31s\tremaining: 19m 18s\n",
      "176:\tlearn: 1.2106231\ttotal: 19m 38s\tremaining: 19m 11s\n",
      "177:\tlearn: 1.2059530\ttotal: 19m 45s\tremaining: 19m 5s\n",
      "178:\tlearn: 1.2030704\ttotal: 19m 53s\tremaining: 18m 59s\n",
      "179:\tlearn: 1.2003522\ttotal: 20m 3s\tremaining: 18m 56s\n",
      "180:\tlearn: 1.1941078\ttotal: 20m 10s\tremaining: 18m 50s\n",
      "181:\tlearn: 1.1939136\ttotal: 20m 18s\tremaining: 18m 44s\n",
      "182:\tlearn: 1.1930826\ttotal: 20m 25s\tremaining: 18m 38s\n",
      "183:\tlearn: 1.1889938\ttotal: 20m 33s\tremaining: 18m 32s\n",
      "184:\tlearn: 1.1846180\ttotal: 20m 39s\tremaining: 18m 25s\n",
      "185:\tlearn: 1.1824915\ttotal: 20m 46s\tremaining: 18m 19s\n",
      "186:\tlearn: 1.1809729\ttotal: 20m 52s\tremaining: 18m 12s\n",
      "187:\tlearn: 1.1787652\ttotal: 20m 59s\tremaining: 18m 5s\n",
      "188:\tlearn: 1.1773606\ttotal: 21m 7s\tremaining: 17m 59s\n",
      "189:\tlearn: 1.1708817\ttotal: 21m 14s\tremaining: 17m 53s\n",
      "190:\tlearn: 1.1686219\ttotal: 21m 22s\tremaining: 17m 47s\n",
      "191:\tlearn: 1.1634478\ttotal: 21m 30s\tremaining: 17m 41s\n",
      "192:\tlearn: 1.1622060\ttotal: 21m 41s\tremaining: 17m 38s\n",
      "193:\tlearn: 1.1586797\ttotal: 21m 49s\tremaining: 17m 32s\n",
      "194:\tlearn: 1.1546189\ttotal: 22m 2s\tremaining: 17m 30s\n",
      "195:\tlearn: 1.1532398\ttotal: 22m 7s\tremaining: 17m 23s\n",
      "196:\tlearn: 1.1516996\ttotal: 22m 14s\tremaining: 17m 16s\n",
      "197:\tlearn: 1.1513544\ttotal: 22m 22s\tremaining: 17m 10s\n",
      "198:\tlearn: 1.1482814\ttotal: 22m 29s\tremaining: 17m 3s\n",
      "199:\tlearn: 1.1469845\ttotal: 22m 37s\tremaining: 16m 57s\n",
      "200:\tlearn: 1.1464680\ttotal: 22m 43s\tremaining: 16m 51s\n",
      "201:\tlearn: 1.1447059\ttotal: 22m 50s\tremaining: 16m 44s\n",
      "202:\tlearn: 1.1404229\ttotal: 23m\tremaining: 16m 39s\n",
      "203:\tlearn: 1.1384703\ttotal: 23m 11s\tremaining: 16m 35s\n",
      "204:\tlearn: 1.1371717\ttotal: 23m 21s\tremaining: 16m 31s\n",
      "205:\tlearn: 1.1320307\ttotal: 23m 29s\tremaining: 16m 24s\n",
      "206:\tlearn: 1.1306370\ttotal: 23m 36s\tremaining: 16m 18s\n",
      "207:\tlearn: 1.1304362\ttotal: 23m 42s\tremaining: 16m 11s\n",
      "208:\tlearn: 1.1296734\ttotal: 23m 50s\tremaining: 16m 4s\n",
      "209:\tlearn: 1.1268127\ttotal: 23m 59s\tremaining: 15m 59s\n",
      "210:\tlearn: 1.1231268\ttotal: 24m 5s\tremaining: 15m 52s\n",
      "211:\tlearn: 1.1227607\ttotal: 24m 13s\tremaining: 15m 46s\n",
      "212:\tlearn: 1.1208146\ttotal: 24m 21s\tremaining: 15m 39s\n",
      "213:\tlearn: 1.1207055\ttotal: 24m 29s\tremaining: 15m 33s\n",
      "214:\tlearn: 1.1190235\ttotal: 24m 36s\tremaining: 15m 26s\n",
      "215:\tlearn: 1.1173653\ttotal: 24m 42s\tremaining: 15m 19s\n",
      "216:\tlearn: 1.1145546\ttotal: 24m 49s\tremaining: 15m 12s\n",
      "217:\tlearn: 1.1127769\ttotal: 24m 54s\tremaining: 15m 4s\n",
      "218:\tlearn: 1.1114052\ttotal: 25m\tremaining: 14m 57s\n",
      "219:\tlearn: 1.1112539\ttotal: 25m 6s\tremaining: 14m 50s\n",
      "220:\tlearn: 1.1102357\ttotal: 25m 11s\tremaining: 14m 42s\n",
      "221:\tlearn: 1.1013564\ttotal: 25m 17s\tremaining: 14m 34s\n",
      "222:\tlearn: 1.0993651\ttotal: 25m 24s\tremaining: 14m 27s\n",
      "223:\tlearn: 1.0991982\ttotal: 25m 30s\tremaining: 14m 21s\n",
      "224:\tlearn: 1.0982198\ttotal: 25m 37s\tremaining: 14m 14s\n",
      "225:\tlearn: 1.0968560\ttotal: 25m 43s\tremaining: 14m 7s\n",
      "226:\tlearn: 1.0959261\ttotal: 25m 50s\tremaining: 14m\n",
      "227:\tlearn: 1.0927489\ttotal: 25m 55s\tremaining: 13m 52s\n",
      "228:\tlearn: 1.0899480\ttotal: 26m 2s\tremaining: 13m 45s\n",
      "229:\tlearn: 1.0856199\ttotal: 26m 9s\tremaining: 13m 38s\n",
      "230:\tlearn: 1.0812822\ttotal: 26m 16s\tremaining: 13m 31s\n",
      "231:\tlearn: 1.0767874\ttotal: 26m 21s\tremaining: 13m 24s\n",
      "232:\tlearn: 1.0747358\ttotal: 26m 25s\tremaining: 13m 16s\n",
      "233:\tlearn: 1.0703482\ttotal: 26m 32s\tremaining: 13m 9s\n",
      "234:\tlearn: 1.0691985\ttotal: 26m 38s\tremaining: 13m 2s\n",
      "235:\tlearn: 1.0665764\ttotal: 26m 45s\tremaining: 12m 55s\n",
      "236:\tlearn: 1.0648131\ttotal: 26m 51s\tremaining: 12m 48s\n",
      "237:\tlearn: 1.0633101\ttotal: 26m 58s\tremaining: 12m 41s\n",
      "238:\tlearn: 1.0632363\ttotal: 27m 4s\tremaining: 12m 34s\n",
      "239:\tlearn: 1.0608736\ttotal: 27m 10s\tremaining: 12m 27s\n",
      "240:\tlearn: 1.0575009\ttotal: 27m 15s\tremaining: 12m 19s\n",
      "241:\tlearn: 1.0571211\ttotal: 27m 21s\tremaining: 12m 12s\n",
      "242:\tlearn: 1.0569919\ttotal: 27m 28s\tremaining: 12m 5s\n",
      "243:\tlearn: 1.0556610\ttotal: 27m 34s\tremaining: 11m 58s\n",
      "244:\tlearn: 1.0556431\ttotal: 27m 40s\tremaining: 11m 51s\n",
      "245:\tlearn: 1.0545351\ttotal: 27m 45s\tremaining: 11m 44s\n",
      "246:\tlearn: 1.0532752\ttotal: 27m 51s\tremaining: 11m 37s\n",
      "247:\tlearn: 1.0519171\ttotal: 27m 58s\tremaining: 11m 30s\n",
      "248:\tlearn: 1.0518626\ttotal: 28m 4s\tremaining: 11m 23s\n",
      "249:\tlearn: 1.0513932\ttotal: 28m 10s\tremaining: 11m 16s\n",
      "250:\tlearn: 1.0509180\ttotal: 28m 17s\tremaining: 11m 9s\n",
      "251:\tlearn: 1.0488388\ttotal: 28m 23s\tremaining: 11m 2s\n",
      "252:\tlearn: 1.0477831\ttotal: 28m 29s\tremaining: 10m 55s\n",
      "253:\tlearn: 1.0441722\ttotal: 28m 35s\tremaining: 10m 48s\n",
      "254:\tlearn: 1.0439374\ttotal: 28m 40s\tremaining: 10m 40s\n",
      "255:\tlearn: 1.0397148\ttotal: 28m 46s\tremaining: 10m 33s\n",
      "256:\tlearn: 1.0381580\ttotal: 28m 52s\tremaining: 10m 26s\n",
      "257:\tlearn: 1.0372923\ttotal: 28m 59s\tremaining: 10m 20s\n",
      "258:\tlearn: 1.0348409\ttotal: 29m 5s\tremaining: 10m 13s\n",
      "259:\tlearn: 1.0332120\ttotal: 29m 11s\tremaining: 10m 6s\n",
      "260:\tlearn: 1.0315709\ttotal: 29m 18s\tremaining: 9m 59s\n",
      "261:\tlearn: 1.0294998\ttotal: 29m 24s\tremaining: 9m 52s\n",
      "262:\tlearn: 1.0272736\ttotal: 29m 29s\tremaining: 9m 45s\n",
      "263:\tlearn: 1.0234074\ttotal: 29m 36s\tremaining: 9m 38s\n",
      "264:\tlearn: 1.0190511\ttotal: 29m 42s\tremaining: 9m 31s\n",
      "265:\tlearn: 1.0181086\ttotal: 29m 48s\tremaining: 9m 24s\n",
      "266:\tlearn: 1.0133545\ttotal: 29m 53s\tremaining: 9m 17s\n",
      "267:\tlearn: 1.0109027\ttotal: 30m\tremaining: 9m 10s\n",
      "268:\tlearn: 1.0092746\ttotal: 30m 6s\tremaining: 9m 3s\n",
      "269:\tlearn: 1.0049808\ttotal: 30m 11s\tremaining: 8m 56s\n",
      "270:\tlearn: 1.0035300\ttotal: 30m 16s\tremaining: 8m 49s\n",
      "271:\tlearn: 1.0021261\ttotal: 30m 21s\tremaining: 8m 42s\n",
      "272:\tlearn: 1.0017427\ttotal: 30m 27s\tremaining: 8m 35s\n",
      "273:\tlearn: 1.0002362\ttotal: 30m 33s\tremaining: 8m 28s\n",
      "274:\tlearn: 0.9998457\ttotal: 30m 39s\tremaining: 8m 21s\n",
      "275:\tlearn: 0.9982058\ttotal: 30m 46s\tremaining: 8m 15s\n",
      "276:\tlearn: 0.9966570\ttotal: 30m 52s\tremaining: 8m 8s\n",
      "277:\tlearn: 0.9955376\ttotal: 30m 57s\tremaining: 8m 1s\n",
      "278:\tlearn: 0.9948212\ttotal: 31m 3s\tremaining: 7m 54s\n",
      "279:\tlearn: 0.9917997\ttotal: 31m 8s\tremaining: 7m 47s\n",
      "280:\tlearn: 0.9904810\ttotal: 31m 14s\tremaining: 7m 40s\n",
      "281:\tlearn: 0.9894657\ttotal: 31m 20s\tremaining: 7m 33s\n",
      "282:\tlearn: 0.9885783\ttotal: 31m 26s\tremaining: 7m 26s\n",
      "283:\tlearn: 0.9877635\ttotal: 31m 33s\tremaining: 7m 19s\n",
      "284:\tlearn: 0.9849567\ttotal: 31m 39s\tremaining: 7m 13s\n",
      "285:\tlearn: 0.9844341\ttotal: 31m 44s\tremaining: 7m 6s\n",
      "286:\tlearn: 0.9842721\ttotal: 31m 50s\tremaining: 6m 59s\n",
      "287:\tlearn: 0.9839276\ttotal: 31m 56s\tremaining: 6m 52s\n",
      "288:\tlearn: 0.9828988\ttotal: 32m 2s\tremaining: 6m 45s\n",
      "289:\tlearn: 0.9826237\ttotal: 32m 8s\tremaining: 6m 38s\n",
      "290:\tlearn: 0.9812966\ttotal: 32m 14s\tremaining: 6m 32s\n",
      "291:\tlearn: 0.9766482\ttotal: 32m 20s\tremaining: 6m 25s\n",
      "292:\tlearn: 0.9758843\ttotal: 32m 26s\tremaining: 6m 18s\n",
      "293:\tlearn: 0.9754325\ttotal: 32m 31s\tremaining: 6m 11s\n",
      "294:\tlearn: 0.9719466\ttotal: 32m 38s\tremaining: 6m 5s\n",
      "295:\tlearn: 0.9702934\ttotal: 32m 44s\tremaining: 5m 58s\n",
      "296:\tlearn: 0.9672665\ttotal: 32m 50s\tremaining: 5m 51s\n",
      "297:\tlearn: 0.9651175\ttotal: 32m 57s\tremaining: 5m 44s\n",
      "298:\tlearn: 0.9639890\ttotal: 33m 3s\tremaining: 5m 38s\n",
      "299:\tlearn: 0.9626621\ttotal: 33m 9s\tremaining: 5m 31s\n",
      "300:\tlearn: 0.9620388\ttotal: 33m 14s\tremaining: 5m 24s\n"
     ]
    },
    {
     "name": "stdout",
     "output_type": "stream",
     "text": [
      "301:\tlearn: 0.9577258\ttotal: 33m 21s\tremaining: 5m 18s\n",
      "302:\tlearn: 0.9558186\ttotal: 33m 26s\tremaining: 5m 11s\n",
      "303:\tlearn: 0.9549584\ttotal: 33m 33s\tremaining: 5m 4s\n",
      "304:\tlearn: 0.9521660\ttotal: 33m 39s\tremaining: 4m 57s\n",
      "305:\tlearn: 0.9512138\ttotal: 33m 45s\tremaining: 4m 51s\n",
      "306:\tlearn: 0.9496093\ttotal: 33m 51s\tremaining: 4m 44s\n",
      "307:\tlearn: 0.9479528\ttotal: 33m 58s\tremaining: 4m 37s\n",
      "308:\tlearn: 0.9476107\ttotal: 34m 4s\tremaining: 4m 31s\n",
      "309:\tlearn: 0.9456843\ttotal: 34m 10s\tremaining: 4m 24s\n",
      "310:\tlearn: 0.9443981\ttotal: 34m 16s\tremaining: 4m 17s\n",
      "311:\tlearn: 0.9436755\ttotal: 34m 23s\tremaining: 4m 11s\n",
      "312:\tlearn: 0.9427776\ttotal: 34m 27s\tremaining: 4m 4s\n",
      "313:\tlearn: 0.9416445\ttotal: 34m 33s\tremaining: 3m 57s\n",
      "314:\tlearn: 0.9405276\ttotal: 34m 40s\tremaining: 3m 51s\n",
      "315:\tlearn: 0.9376958\ttotal: 34m 45s\tremaining: 3m 44s\n",
      "316:\tlearn: 0.9342428\ttotal: 34m 51s\tremaining: 3m 37s\n",
      "317:\tlearn: 0.9341207\ttotal: 34m 57s\tremaining: 3m 31s\n",
      "318:\tlearn: 0.9321562\ttotal: 35m 3s\tremaining: 3m 24s\n",
      "319:\tlearn: 0.9298207\ttotal: 35m 8s\tremaining: 3m 17s\n",
      "320:\tlearn: 0.9272460\ttotal: 35m 13s\tremaining: 3m 10s\n",
      "321:\tlearn: 0.9250129\ttotal: 35m 19s\tremaining: 3m 4s\n",
      "322:\tlearn: 0.9248776\ttotal: 35m 25s\tremaining: 2m 57s\n",
      "323:\tlearn: 0.9247996\ttotal: 35m 31s\tremaining: 2m 51s\n",
      "324:\tlearn: 0.9232108\ttotal: 35m 37s\tremaining: 2m 44s\n",
      "325:\tlearn: 0.9212406\ttotal: 35m 43s\tremaining: 2m 37s\n",
      "326:\tlearn: 0.9202978\ttotal: 35m 50s\tremaining: 2m 31s\n",
      "327:\tlearn: 0.9196131\ttotal: 35m 56s\tremaining: 2m 24s\n",
      "328:\tlearn: 0.9180107\ttotal: 36m 2s\tremaining: 2m 18s\n",
      "329:\tlearn: 0.9178566\ttotal: 36m 8s\tremaining: 2m 11s\n",
      "330:\tlearn: 0.9170569\ttotal: 36m 14s\tremaining: 2m 4s\n",
      "331:\tlearn: 0.9142773\ttotal: 36m 20s\tremaining: 1m 58s\n",
      "332:\tlearn: 0.9119512\ttotal: 36m 27s\tremaining: 1m 51s\n",
      "333:\tlearn: 0.9116021\ttotal: 36m 33s\tremaining: 1m 45s\n",
      "334:\tlearn: 0.9115321\ttotal: 36m 42s\tremaining: 1m 38s\n",
      "335:\tlearn: 0.9085822\ttotal: 36m 52s\tremaining: 1m 32s\n",
      "336:\tlearn: 0.9071567\ttotal: 37m 2s\tremaining: 1m 25s\n",
      "337:\tlearn: 0.9057986\ttotal: 37m 9s\tremaining: 1m 19s\n",
      "338:\tlearn: 0.9012929\ttotal: 37m 14s\tremaining: 1m 12s\n",
      "339:\tlearn: 0.9000212\ttotal: 37m 21s\tremaining: 1m 5s\n",
      "340:\tlearn: 0.8999226\ttotal: 37m 27s\tremaining: 59.3s\n",
      "341:\tlearn: 0.8997932\ttotal: 37m 35s\tremaining: 52.8s\n",
      "342:\tlearn: 0.8989849\ttotal: 37m 42s\tremaining: 46.2s\n",
      "343:\tlearn: 0.8977038\ttotal: 37m 48s\tremaining: 39.6s\n",
      "344:\tlearn: 0.8943196\ttotal: 37m 55s\tremaining: 33s\n",
      "345:\tlearn: 0.8917961\ttotal: 38m 1s\tremaining: 26.4s\n",
      "346:\tlearn: 0.8894093\ttotal: 38m 7s\tremaining: 19.8s\n",
      "347:\tlearn: 0.8851081\ttotal: 38m 13s\tremaining: 13.2s\n",
      "348:\tlearn: 0.8841056\ttotal: 38m 24s\tremaining: 6.6s\n",
      "349:\tlearn: 0.8816564\ttotal: 38m 32s\tremaining: 0us\n"
     ]
    }
   ],
   "source": [
    "model = CatBoostClassifier(random_state=1, depth=4, learning_rate=0.3, l2_leaf_reg=5, cat_features=cat_features, iterations=350).fit(X, y)"
   ]
  },
  {
   "cell_type": "code",
   "execution_count": null,
   "id": "f17af294",
   "metadata": {},
   "outputs": [],
   "source": []
  },
  {
   "cell_type": "code",
   "execution_count": 35,
   "id": "de747fc2",
   "metadata": {},
   "outputs": [],
   "source": [
    "test_df = pd.read_csv('data/test.csv', index_col=0)"
   ]
  },
  {
   "cell_type": "code",
   "execution_count": 36,
   "id": "ccf2c096",
   "metadata": {},
   "outputs": [
    {
     "data": {
      "text/plain": [
       "(7125, 3)"
      ]
     },
     "execution_count": 36,
     "metadata": {},
     "output_type": "execute_result"
    }
   ],
   "source": [
    "test_df.shape"
   ]
  },
  {
   "cell_type": "code",
   "execution_count": 37,
   "id": "7f144635",
   "metadata": {},
   "outputs": [],
   "source": [
    "#test_df.drop_duplicates(inplace=True)"
   ]
  },
  {
   "cell_type": "code",
   "execution_count": 38,
   "id": "8e9d09bc",
   "metadata": {},
   "outputs": [
    {
     "data": {
      "text/plain": [
       "(7125, 3)"
      ]
     },
     "execution_count": 38,
     "metadata": {},
     "output_type": "execute_result"
    }
   ],
   "source": [
    "test_df.shape"
   ]
  },
  {
   "cell_type": "markdown",
   "id": "67a083aa",
   "metadata": {},
   "source": [
    "### Преобразуем тестовые данные"
   ]
  },
  {
   "cell_type": "code",
   "execution_count": 39,
   "id": "31f98479",
   "metadata": {},
   "outputs": [],
   "source": [
    "user_words = test_df['user_word'].unique()"
   ]
  },
  {
   "cell_type": "code",
   "execution_count": 40,
   "id": "ce889b92",
   "metadata": {},
   "outputs": [
    {
     "data": {
      "text/plain": [
       "array([ 9,  5, 10, 15,  7,  3, 11,  4,  6, 12, 13,  8,  2,  1, 14, -1],\n",
       "      dtype=int64)"
      ]
     },
     "execution_count": 40,
     "metadata": {},
     "output_type": "execute_result"
    }
   ],
   "source": [
    "test_df['gate_id'].unique()"
   ]
  },
  {
   "cell_type": "code",
   "execution_count": 41,
   "id": "4106aa20",
   "metadata": {},
   "outputs": [],
   "source": [
    "test_df['ts'] = pd.to_datetime(test_df['ts'])"
   ]
  },
  {
   "cell_type": "code",
   "execution_count": 46,
   "id": "c25689cd",
   "metadata": {},
   "outputs": [],
   "source": [
    "user_data = []\n",
    "feats = ['user_word']\n",
    "for user in user_words:\n",
    "    user_df = test_df[test_df['user_word'] == user]\n",
    "    dates = user_df['ts'].dt.date.unique()\n",
    "    for date in dates:\n",
    "        user_dict = user_df[user_df['ts'].dt.date == date][feats].to_dict('records')[0]\n",
    "        i = 1\n",
    "        time_0 = datetime.datetime(date.year, date.month, date.day, 0, 0)\n",
    "        #print(time_0)\n",
    "        for index, row in user_df[user_df['ts'].dt.date == date][['gate_id', 'ts']][:20].iterrows():\n",
    "            gate = row[0]\n",
    "            ts = row[1]\n",
    "            ts_delta = ts - time_0\n",
    "            #print(ts, ts_delta)\n",
    "            user_dict['gate_'+str(i)] = gate\n",
    "            user_dict['time_'+str(i)] = ts_delta.total_seconds()\n",
    "            time_0 = ts\n",
    "            i += 1        \n",
    "        user_data.append(user_dict)            "
   ]
  },
  {
   "cell_type": "code",
   "execution_count": 47,
   "id": "835cc889",
   "metadata": {},
   "outputs": [],
   "source": [
    "new_test = pd.DataFrame(user_data)"
   ]
  },
  {
   "cell_type": "code",
   "execution_count": 48,
   "id": "99d97e26",
   "metadata": {},
   "outputs": [
    {
     "data": {
      "text/html": [
       "<div>\n",
       "<style scoped>\n",
       "    .dataframe tbody tr th:only-of-type {\n",
       "        vertical-align: middle;\n",
       "    }\n",
       "\n",
       "    .dataframe tbody tr th {\n",
       "        vertical-align: top;\n",
       "    }\n",
       "\n",
       "    .dataframe thead th {\n",
       "        text-align: right;\n",
       "    }\n",
       "</style>\n",
       "<table border=\"1\" class=\"dataframe\">\n",
       "  <thead>\n",
       "    <tr style=\"text-align: right;\">\n",
       "      <th></th>\n",
       "      <th>user_word</th>\n",
       "      <th>gate_1</th>\n",
       "      <th>time_1</th>\n",
       "      <th>gate_2</th>\n",
       "      <th>time_2</th>\n",
       "      <th>gate_3</th>\n",
       "      <th>time_3</th>\n",
       "      <th>gate_4</th>\n",
       "      <th>time_4</th>\n",
       "      <th>gate_5</th>\n",
       "      <th>...</th>\n",
       "      <th>gate_16</th>\n",
       "      <th>time_16</th>\n",
       "      <th>gate_17</th>\n",
       "      <th>time_17</th>\n",
       "      <th>gate_18</th>\n",
       "      <th>time_18</th>\n",
       "      <th>gate_19</th>\n",
       "      <th>time_19</th>\n",
       "      <th>gate_20</th>\n",
       "      <th>time_20</th>\n",
       "    </tr>\n",
       "  </thead>\n",
       "  <tbody>\n",
       "    <tr>\n",
       "      <th>0</th>\n",
       "      <td>gini</td>\n",
       "      <td>9</td>\n",
       "      <td>30060.0</td>\n",
       "      <td>9.0</td>\n",
       "      <td>0.0</td>\n",
       "      <td>5.0</td>\n",
       "      <td>18.0</td>\n",
       "      <td>5.0</td>\n",
       "      <td>1.0</td>\n",
       "      <td>10.0</td>\n",
       "      <td>...</td>\n",
       "      <td>4.0</td>\n",
       "      <td>1.0</td>\n",
       "      <td>NaN</td>\n",
       "      <td>NaN</td>\n",
       "      <td>NaN</td>\n",
       "      <td>NaN</td>\n",
       "      <td>NaN</td>\n",
       "      <td>NaN</td>\n",
       "      <td>NaN</td>\n",
       "      <td>NaN</td>\n",
       "    </tr>\n",
       "    <tr>\n",
       "      <th>1</th>\n",
       "      <td>gini</td>\n",
       "      <td>7</td>\n",
       "      <td>29246.0</td>\n",
       "      <td>9.0</td>\n",
       "      <td>57.0</td>\n",
       "      <td>9.0</td>\n",
       "      <td>0.0</td>\n",
       "      <td>5.0</td>\n",
       "      <td>19.0</td>\n",
       "      <td>5.0</td>\n",
       "      <td>...</td>\n",
       "      <td>NaN</td>\n",
       "      <td>NaN</td>\n",
       "      <td>NaN</td>\n",
       "      <td>NaN</td>\n",
       "      <td>NaN</td>\n",
       "      <td>NaN</td>\n",
       "      <td>NaN</td>\n",
       "      <td>NaN</td>\n",
       "      <td>NaN</td>\n",
       "      <td>NaN</td>\n",
       "    </tr>\n",
       "    <tr>\n",
       "      <th>2</th>\n",
       "      <td>gini</td>\n",
       "      <td>7</td>\n",
       "      <td>29737.0</td>\n",
       "      <td>9.0</td>\n",
       "      <td>56.0</td>\n",
       "      <td>9.0</td>\n",
       "      <td>0.0</td>\n",
       "      <td>5.0</td>\n",
       "      <td>17.0</td>\n",
       "      <td>5.0</td>\n",
       "      <td>...</td>\n",
       "      <td>NaN</td>\n",
       "      <td>NaN</td>\n",
       "      <td>NaN</td>\n",
       "      <td>NaN</td>\n",
       "      <td>NaN</td>\n",
       "      <td>NaN</td>\n",
       "      <td>NaN</td>\n",
       "      <td>NaN</td>\n",
       "      <td>NaN</td>\n",
       "      <td>NaN</td>\n",
       "    </tr>\n",
       "  </tbody>\n",
       "</table>\n",
       "<p>3 rows × 41 columns</p>\n",
       "</div>"
      ],
      "text/plain": [
       "  user_word  gate_1   time_1  gate_2  time_2  gate_3  time_3  gate_4  time_4   \n",
       "0      gini       9  30060.0     9.0     0.0     5.0    18.0     5.0     1.0  \\\n",
       "1      gini       7  29246.0     9.0    57.0     9.0     0.0     5.0    19.0   \n",
       "2      gini       7  29737.0     9.0    56.0     9.0     0.0     5.0    17.0   \n",
       "\n",
       "   gate_5  ...  gate_16  time_16  gate_17  time_17  gate_18  time_18  gate_19   \n",
       "0    10.0  ...      4.0      1.0      NaN      NaN      NaN      NaN      NaN  \\\n",
       "1     5.0  ...      NaN      NaN      NaN      NaN      NaN      NaN      NaN   \n",
       "2     5.0  ...      NaN      NaN      NaN      NaN      NaN      NaN      NaN   \n",
       "\n",
       "   time_19  gate_20  time_20  \n",
       "0      NaN      NaN      NaN  \n",
       "1      NaN      NaN      NaN  \n",
       "2      NaN      NaN      NaN  \n",
       "\n",
       "[3 rows x 41 columns]"
      ]
     },
     "execution_count": 48,
     "metadata": {},
     "output_type": "execute_result"
    }
   ],
   "source": [
    "new_test.head(3)"
   ]
  },
  {
   "cell_type": "code",
   "execution_count": 49,
   "id": "4c8a395d",
   "metadata": {},
   "outputs": [],
   "source": [
    "for c_f in cat_features:\n",
    "    new_test[c_f] = new_test[c_f].astype(str)"
   ]
  },
  {
   "cell_type": "code",
   "execution_count": 50,
   "id": "267c1b11",
   "metadata": {},
   "outputs": [],
   "source": [
    "X_test = new_test[total_features]"
   ]
  },
  {
   "cell_type": "code",
   "execution_count": 51,
   "id": "5ca2962d",
   "metadata": {},
   "outputs": [],
   "source": [
    "y_test_pred = model.predict_proba(X_test)"
   ]
  },
  {
   "cell_type": "code",
   "execution_count": 52,
   "id": "5584124b",
   "metadata": {},
   "outputs": [],
   "source": [
    "test_words = pd.DataFrame()\n",
    "\n",
    "test_words['user_word'] = new_test['user_word']\n",
    "test_words[model.classes_] = y_test_pred"
   ]
  },
  {
   "cell_type": "code",
   "execution_count": 53,
   "id": "a91f9655",
   "metadata": {},
   "outputs": [
    {
     "data": {
      "text/html": [
       "<div>\n",
       "<style scoped>\n",
       "    .dataframe tbody tr th:only-of-type {\n",
       "        vertical-align: middle;\n",
       "    }\n",
       "\n",
       "    .dataframe tbody tr th {\n",
       "        vertical-align: top;\n",
       "    }\n",
       "\n",
       "    .dataframe thead th {\n",
       "        text-align: right;\n",
       "    }\n",
       "</style>\n",
       "<table border=\"1\" class=\"dataframe\">\n",
       "  <thead>\n",
       "    <tr style=\"text-align: right;\">\n",
       "      <th></th>\n",
       "      <th>user_word</th>\n",
       "      <th>0</th>\n",
       "      <th>1</th>\n",
       "      <th>2</th>\n",
       "      <th>3</th>\n",
       "      <th>5</th>\n",
       "      <th>6</th>\n",
       "      <th>7</th>\n",
       "      <th>8</th>\n",
       "      <th>9</th>\n",
       "      <th>...</th>\n",
       "      <th>47</th>\n",
       "      <th>48</th>\n",
       "      <th>49</th>\n",
       "      <th>50</th>\n",
       "      <th>51</th>\n",
       "      <th>53</th>\n",
       "      <th>54</th>\n",
       "      <th>55</th>\n",
       "      <th>56</th>\n",
       "      <th>57</th>\n",
       "    </tr>\n",
       "  </thead>\n",
       "  <tbody>\n",
       "    <tr>\n",
       "      <th>0</th>\n",
       "      <td>gini</td>\n",
       "      <td>0.071234</td>\n",
       "      <td>0.245231</td>\n",
       "      <td>0.001130</td>\n",
       "      <td>0.261680</td>\n",
       "      <td>0.000190</td>\n",
       "      <td>0.014118</td>\n",
       "      <td>0.000406</td>\n",
       "      <td>0.000193</td>\n",
       "      <td>0.001084</td>\n",
       "      <td>...</td>\n",
       "      <td>0.016774</td>\n",
       "      <td>0.000306</td>\n",
       "      <td>0.003865</td>\n",
       "      <td>0.002409</td>\n",
       "      <td>0.000083</td>\n",
       "      <td>0.005742</td>\n",
       "      <td>0.001761</td>\n",
       "      <td>0.003258</td>\n",
       "      <td>0.001203</td>\n",
       "      <td>0.002626</td>\n",
       "    </tr>\n",
       "    <tr>\n",
       "      <th>1</th>\n",
       "      <td>gini</td>\n",
       "      <td>0.025917</td>\n",
       "      <td>0.027074</td>\n",
       "      <td>0.000223</td>\n",
       "      <td>0.090427</td>\n",
       "      <td>0.000030</td>\n",
       "      <td>0.002751</td>\n",
       "      <td>0.000092</td>\n",
       "      <td>0.000015</td>\n",
       "      <td>0.000011</td>\n",
       "      <td>...</td>\n",
       "      <td>0.013249</td>\n",
       "      <td>0.000041</td>\n",
       "      <td>0.000347</td>\n",
       "      <td>0.000251</td>\n",
       "      <td>0.000006</td>\n",
       "      <td>0.000677</td>\n",
       "      <td>0.000217</td>\n",
       "      <td>0.000842</td>\n",
       "      <td>0.000170</td>\n",
       "      <td>0.000126</td>\n",
       "    </tr>\n",
       "    <tr>\n",
       "      <th>2</th>\n",
       "      <td>gini</td>\n",
       "      <td>0.035248</td>\n",
       "      <td>0.044430</td>\n",
       "      <td>0.000276</td>\n",
       "      <td>0.162712</td>\n",
       "      <td>0.000037</td>\n",
       "      <td>0.003701</td>\n",
       "      <td>0.000156</td>\n",
       "      <td>0.000019</td>\n",
       "      <td>0.000015</td>\n",
       "      <td>...</td>\n",
       "      <td>0.023991</td>\n",
       "      <td>0.000047</td>\n",
       "      <td>0.000461</td>\n",
       "      <td>0.000376</td>\n",
       "      <td>0.000008</td>\n",
       "      <td>0.000795</td>\n",
       "      <td>0.000288</td>\n",
       "      <td>0.001063</td>\n",
       "      <td>0.000198</td>\n",
       "      <td>0.000182</td>\n",
       "    </tr>\n",
       "  </tbody>\n",
       "</table>\n",
       "<p>3 rows × 54 columns</p>\n",
       "</div>"
      ],
      "text/plain": [
       "  user_word         0         1         2         3         5         6   \n",
       "0      gini  0.071234  0.245231  0.001130  0.261680  0.000190  0.014118  \\\n",
       "1      gini  0.025917  0.027074  0.000223  0.090427  0.000030  0.002751   \n",
       "2      gini  0.035248  0.044430  0.000276  0.162712  0.000037  0.003701   \n",
       "\n",
       "          7         8         9  ...        47        48        49        50   \n",
       "0  0.000406  0.000193  0.001084  ...  0.016774  0.000306  0.003865  0.002409  \\\n",
       "1  0.000092  0.000015  0.000011  ...  0.013249  0.000041  0.000347  0.000251   \n",
       "2  0.000156  0.000019  0.000015  ...  0.023991  0.000047  0.000461  0.000376   \n",
       "\n",
       "         51        53        54        55        56        57  \n",
       "0  0.000083  0.005742  0.001761  0.003258  0.001203  0.002626  \n",
       "1  0.000006  0.000677  0.000217  0.000842  0.000170  0.000126  \n",
       "2  0.000008  0.000795  0.000288  0.001063  0.000198  0.000182  \n",
       "\n",
       "[3 rows x 54 columns]"
      ]
     },
     "execution_count": 53,
     "metadata": {},
     "output_type": "execute_result"
    }
   ],
   "source": [
    "test_words.head(3)"
   ]
  },
  {
   "cell_type": "code",
   "execution_count": 54,
   "id": "ac434610",
   "metadata": {},
   "outputs": [],
   "source": [
    "comp_df_test = pd.DataFrame(test_words.groupby('user_word')[model.classes_].agg(lambda x: x.median()))"
   ]
  },
  {
   "cell_type": "code",
   "execution_count": 55,
   "id": "0a2bf4c4",
   "metadata": {},
   "outputs": [
    {
     "data": {
      "text/html": [
       "<div>\n",
       "<style scoped>\n",
       "    .dataframe tbody tr th:only-of-type {\n",
       "        vertical-align: middle;\n",
       "    }\n",
       "\n",
       "    .dataframe tbody tr th {\n",
       "        vertical-align: top;\n",
       "    }\n",
       "\n",
       "    .dataframe thead th {\n",
       "        text-align: right;\n",
       "    }\n",
       "</style>\n",
       "<table border=\"1\" class=\"dataframe\">\n",
       "  <thead>\n",
       "    <tr style=\"text-align: right;\">\n",
       "      <th></th>\n",
       "      <th>0</th>\n",
       "      <th>1</th>\n",
       "      <th>2</th>\n",
       "      <th>3</th>\n",
       "      <th>5</th>\n",
       "      <th>6</th>\n",
       "      <th>7</th>\n",
       "      <th>8</th>\n",
       "      <th>9</th>\n",
       "      <th>10</th>\n",
       "      <th>...</th>\n",
       "      <th>47</th>\n",
       "      <th>48</th>\n",
       "      <th>49</th>\n",
       "      <th>50</th>\n",
       "      <th>51</th>\n",
       "      <th>53</th>\n",
       "      <th>54</th>\n",
       "      <th>55</th>\n",
       "      <th>56</th>\n",
       "      <th>57</th>\n",
       "    </tr>\n",
       "    <tr>\n",
       "      <th>user_word</th>\n",
       "      <th></th>\n",
       "      <th></th>\n",
       "      <th></th>\n",
       "      <th></th>\n",
       "      <th></th>\n",
       "      <th></th>\n",
       "      <th></th>\n",
       "      <th></th>\n",
       "      <th></th>\n",
       "      <th></th>\n",
       "      <th></th>\n",
       "      <th></th>\n",
       "      <th></th>\n",
       "      <th></th>\n",
       "      <th></th>\n",
       "      <th></th>\n",
       "      <th></th>\n",
       "      <th></th>\n",
       "      <th></th>\n",
       "      <th></th>\n",
       "      <th></th>\n",
       "    </tr>\n",
       "  </thead>\n",
       "  <tbody>\n",
       "    <tr>\n",
       "      <th>aucroc</th>\n",
       "      <td>0.000720</td>\n",
       "      <td>0.014551</td>\n",
       "      <td>0.000133</td>\n",
       "      <td>0.000298</td>\n",
       "      <td>0.000077</td>\n",
       "      <td>0.000598</td>\n",
       "      <td>0.000072</td>\n",
       "      <td>0.000045</td>\n",
       "      <td>0.000035</td>\n",
       "      <td>0.000044</td>\n",
       "      <td>...</td>\n",
       "      <td>0.000173</td>\n",
       "      <td>0.000357</td>\n",
       "      <td>0.472208</td>\n",
       "      <td>0.002753</td>\n",
       "      <td>0.000016</td>\n",
       "      <td>0.000401</td>\n",
       "      <td>0.002132</td>\n",
       "      <td>0.000635</td>\n",
       "      <td>0.000605</td>\n",
       "      <td>0.000078</td>\n",
       "    </tr>\n",
       "    <tr>\n",
       "      <th>binary</th>\n",
       "      <td>0.001826</td>\n",
       "      <td>0.007978</td>\n",
       "      <td>0.000164</td>\n",
       "      <td>0.001977</td>\n",
       "      <td>0.000085</td>\n",
       "      <td>0.005270</td>\n",
       "      <td>0.000022</td>\n",
       "      <td>0.000075</td>\n",
       "      <td>0.001339</td>\n",
       "      <td>0.000141</td>\n",
       "      <td>...</td>\n",
       "      <td>0.004680</td>\n",
       "      <td>0.001071</td>\n",
       "      <td>0.053712</td>\n",
       "      <td>0.007012</td>\n",
       "      <td>0.000028</td>\n",
       "      <td>0.000719</td>\n",
       "      <td>0.019784</td>\n",
       "      <td>0.000525</td>\n",
       "      <td>0.000392</td>\n",
       "      <td>0.000056</td>\n",
       "    </tr>\n",
       "    <tr>\n",
       "      <th>blue</th>\n",
       "      <td>0.003287</td>\n",
       "      <td>0.003234</td>\n",
       "      <td>0.001016</td>\n",
       "      <td>0.000759</td>\n",
       "      <td>0.000892</td>\n",
       "      <td>0.000799</td>\n",
       "      <td>0.000346</td>\n",
       "      <td>0.000458</td>\n",
       "      <td>0.009970</td>\n",
       "      <td>0.005477</td>\n",
       "      <td>...</td>\n",
       "      <td>0.085439</td>\n",
       "      <td>0.004352</td>\n",
       "      <td>0.012505</td>\n",
       "      <td>0.009986</td>\n",
       "      <td>0.000388</td>\n",
       "      <td>0.000694</td>\n",
       "      <td>0.015502</td>\n",
       "      <td>0.000214</td>\n",
       "      <td>0.046971</td>\n",
       "      <td>0.003075</td>\n",
       "    </tr>\n",
       "  </tbody>\n",
       "</table>\n",
       "<p>3 rows × 53 columns</p>\n",
       "</div>"
      ],
      "text/plain": [
       "                 0         1         2         3         5         6    \n",
       "user_word                                                               \n",
       "aucroc     0.000720  0.014551  0.000133  0.000298  0.000077  0.000598  \\\n",
       "binary     0.001826  0.007978  0.000164  0.001977  0.000085  0.005270   \n",
       "blue       0.003287  0.003234  0.001016  0.000759  0.000892  0.000799   \n",
       "\n",
       "                 7         8         9         10  ...        47        48   \n",
       "user_word                                          ...                       \n",
       "aucroc     0.000072  0.000045  0.000035  0.000044  ...  0.000173  0.000357  \\\n",
       "binary     0.000022  0.000075  0.001339  0.000141  ...  0.004680  0.001071   \n",
       "blue       0.000346  0.000458  0.009970  0.005477  ...  0.085439  0.004352   \n",
       "\n",
       "                 49        50        51        53        54        55   \n",
       "user_word                                                               \n",
       "aucroc     0.472208  0.002753  0.000016  0.000401  0.002132  0.000635  \\\n",
       "binary     0.053712  0.007012  0.000028  0.000719  0.019784  0.000525   \n",
       "blue       0.012505  0.009986  0.000388  0.000694  0.015502  0.000214   \n",
       "\n",
       "                 56        57  \n",
       "user_word                      \n",
       "aucroc     0.000605  0.000078  \n",
       "binary     0.000392  0.000056  \n",
       "blue       0.046971  0.003075  \n",
       "\n",
       "[3 rows x 53 columns]"
      ]
     },
     "execution_count": 55,
     "metadata": {},
     "output_type": "execute_result"
    }
   ],
   "source": [
    "comp_df_test.head(3)"
   ]
  },
  {
   "cell_type": "code",
   "execution_count": 56,
   "id": "5ff5a110",
   "metadata": {},
   "outputs": [],
   "source": [
    "comp_df_test['preds'] = comp_df_test[model.classes_].idxmax(axis=1)"
   ]
  },
  {
   "cell_type": "code",
   "execution_count": 57,
   "id": "933bfc9a",
   "metadata": {},
   "outputs": [],
   "source": [
    "tmp_df = comp_df_test[model.classes_]\n",
    "for cur_user in range(comp_df_test.shape[0]):\n",
    "    # Находим максимальное значение\n",
    "    cur_max = tmp_df.max().max()\n",
    "    s = tmp_df.stack()\n",
    "    index, column = s[s==cur_max].index[0]\n",
    "    # Заменяем значчение\n",
    "    if cur_max > 0.01:\n",
    "        comp_df_test.loc[index, 'preds'] = column\n",
    "    else:\n",
    "        comp_df_test.loc[index, 'preds'] = -999\n",
    "    # Удаляем столбец и строку\n",
    "    tmp_df = tmp_df.drop(columns=[column])\n",
    "    tmp_df = tmp_df.drop(index=index)"
   ]
  },
  {
   "cell_type": "code",
   "execution_count": 58,
   "id": "e27542c5",
   "metadata": {},
   "outputs": [
    {
     "data": {
      "text/plain": [
       "user_word\n",
       "aucroc           49\n",
       "binary           12\n",
       "blue             47\n",
       "categorical      14\n",
       "coefficient    -999\n",
       "collinear        23\n",
       "distributed       0\n",
       "epsilon           1\n",
       "f1                6\n",
       "fit              40\n",
       "gini             15\n",
       "independent    -999\n",
       "lasso            25\n",
       "linear           17\n",
       "logistic         36\n",
       "loss             19\n",
       "matrix           29\n",
       "minimization     50\n",
       "mse              43\n",
       "ols              11\n",
       "precision        53\n",
       "predict          39\n",
       "pvalue           32\n",
       "r2               54\n",
       "recall            3\n",
       "regression       57\n",
       "residual         48\n",
       "ridge            35\n",
       "sigmoid          55\n",
       "significant      33\n",
       "target           46\n",
       "tstat             9\n",
       "x                37\n",
       "y                24\n",
       "Name: preds, dtype: int64"
      ]
     },
     "execution_count": 58,
     "metadata": {},
     "output_type": "execute_result"
    }
   ],
   "source": [
    "comp_df_test['preds']"
   ]
  },
  {
   "cell_type": "code",
   "execution_count": null,
   "id": "8bf4f6bd",
   "metadata": {},
   "outputs": [],
   "source": []
  },
  {
   "cell_type": "code",
   "execution_count": null,
   "id": "3f50f1e6",
   "metadata": {},
   "outputs": [],
   "source": []
  },
  {
   "cell_type": "code",
   "execution_count": 59,
   "id": "fd3db7b7",
   "metadata": {},
   "outputs": [
    {
     "data": {
      "text/plain": [
       "34"
      ]
     },
     "execution_count": 59,
     "metadata": {},
     "output_type": "execute_result"
    }
   ],
   "source": [
    "comp_df_test.shape[0]"
   ]
  },
  {
   "cell_type": "code",
   "execution_count": 60,
   "id": "787133b6",
   "metadata": {},
   "outputs": [],
   "source": [
    "comp_df_test['preds'].to_csv('final.csv', index=True) "
   ]
  },
  {
   "cell_type": "code",
   "execution_count": null,
   "id": "4ac10259",
   "metadata": {},
   "outputs": [],
   "source": []
  }
 ],
 "metadata": {
  "kernelspec": {
   "display_name": "Python 3 (ipykernel)",
   "language": "python",
   "name": "python3"
  },
  "language_info": {
   "codemirror_mode": {
    "name": "ipython",
    "version": 3
   },
   "file_extension": ".py",
   "mimetype": "text/x-python",
   "name": "python",
   "nbconvert_exporter": "python",
   "pygments_lexer": "ipython3",
   "version": "3.9.13"
  }
 },
 "nbformat": 4,
 "nbformat_minor": 5
}
